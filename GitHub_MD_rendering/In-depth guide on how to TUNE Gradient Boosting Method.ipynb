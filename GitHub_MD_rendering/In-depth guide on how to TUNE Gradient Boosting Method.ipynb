{
 "cells": [
  {
   "cell_type": "code",
   "execution_count": null,
   "metadata": {},
   "outputs": [],
   "source": [
    "\"\"\"\n",
    "What? In-depth guide on how to tune Gradient Boosting Method\n",
    "\n",
    "Reference [article]: \n",
    "Reference [code]: https://github.com/aarshayj/analytics_vidhya/tree/master/Articles/Parameter_Tuning_GBM_with_Example\n",
    "\n",
    "\"\"\""
   ]
  }
 ],
 "metadata": {
  "kernelspec": {
   "display_name": "trainingAI",
   "language": "python",
   "name": "trainingai"
  },
  "language_info": {
   "codemirror_mode": {
    "name": "ipython",
    "version": 3
   },
   "file_extension": ".py",
   "mimetype": "text/x-python",
   "name": "python",
   "nbconvert_exporter": "python",
   "pygments_lexer": "ipython3",
   "version": "3.8.5"
  }
 },
 "nbformat": 4,
 "nbformat_minor": 4
}
