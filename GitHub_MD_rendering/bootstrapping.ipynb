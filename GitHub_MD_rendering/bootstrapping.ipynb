{
 "cells": [
  {
   "cell_type": "code",
   "execution_count": 7,
   "metadata": {},
   "outputs": [
    {
     "data": {
      "text/plain": [
       "'\\nWhat? Boostrapping\\nSupervised/Unsupervised? None\\nMain library used? sklearn\\nDate: 18/11/20\\n\\nReferences:\\n'"
      ]
     },
     "execution_count": 7,
     "metadata": {},
     "output_type": "execute_result"
    }
   ],
   "source": [
    "\"\"\"\n",
    "What? Boostrapping\n",
    "\"\"\""
   ]
  },
  {
   "cell_type": "code",
   "execution_count": 8,
   "metadata": {},
   "outputs": [],
   "source": [
    "# Import modules\n",
    "from sklearn.utils import resample"
   ]
  },
  {
   "cell_type": "code",
   "execution_count": 9,
   "metadata": {},
   "outputs": [
    {
     "name": "stdout",
     "output_type": "stream",
     "text": [
      "Bootstrap Sample: [0.6, 0.4, 0.5, 0.1]\n",
      "OOB Sample: [0.2, 0.3]\n"
     ]
    }
   ],
   "source": [
    "# Imagine we have a dataset with 6 observations\n",
    "data = [0.1, 0.2, 0.3, 0.4, 0.5, 0.6]\n",
    "\n",
    "# Prepare bootstrap sample\n",
    "boot = resample(data, replace=True, n_samples=4, random_state=1) \n",
    "print('Bootstrap Sample: %s' % boot)\n",
    "\n",
    "# Out of bag observations\n",
    "oob = [x for x in data if x not in boot]\n",
    "print('OOB Sample: %s' % oob)"
   ]
  }
 ],
 "metadata": {
  "hide_input": false,
  "kernelspec": {
   "display_name": "trainingAI",
   "language": "python",
   "name": "trainingai"
  },
  "language_info": {
   "codemirror_mode": {
    "name": "ipython",
    "version": 3
   },
   "file_extension": ".py",
   "mimetype": "text/x-python",
   "name": "python",
   "nbconvert_exporter": "python",
   "pygments_lexer": "ipython3",
   "version": "3.8.5"
  }
 },
 "nbformat": 4,
 "nbformat_minor": 2
}
