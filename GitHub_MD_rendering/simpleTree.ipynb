{
 "cells": [
  {
   "cell_type": "markdown",
   "id": "raised-reader",
   "metadata": {},
   "source": [
    "# Introduction"
   ]
  },
  {
   "cell_type": "code",
   "execution_count": null,
   "id": "magnetic-council",
   "metadata": {},
   "outputs": [],
   "source": [
    "\"\"\"\n",
    "defines a set of 2D points in the Euclidean plane, along with their labels, and then predicts the label\n",
    "(i.e., the class) of several other 2D points in the Euclidean plane.\n",
    "\n",
    "Python 3 for machine learning, O. Compesato\n",
    "\"\"\""
   ]
  },
  {
   "cell_type": "markdown",
   "id": "adjacent-efficiency",
   "metadata": {},
   "source": [
    "# Import modules"
   ]
  },
  {
   "cell_type": "code",
   "execution_count": null,
   "id": "respected-seattle",
   "metadata": {},
   "outputs": [],
   "source": [
    "from sklearn import tree"
   ]
  },
  {
   "cell_type": "markdown",
   "id": "warming-acrobat",
   "metadata": {},
   "source": [
    "# Example #1"
   ]
  },
  {
   "cell_type": "code",
   "execution_count": 1,
   "id": "extreme-reverse",
   "metadata": {},
   "outputs": [
    {
     "name": "stdout",
     "output_type": "stream",
     "text": [
      "predict class of [-1., -1.]:\n",
      "[0]\n",
      "predict class of [2., 2.]:\n",
      "[1]\n",
      "probability of each class in [2.,2.]:\n",
      "[[0. 1.]]\n"
     ]
    }
   ],
   "source": [
    "# X = pairs of 2D points and Y = the class of each point\n",
    "X = [[0, 0], [1, 1], [2,2]]\n",
    "Y = [0, 1, 1]\n",
    "tree_clf = tree.DecisionTreeClassifier()\n",
    "tree_clf = tree_clf.fit(X, Y)\n",
    "#predict the class of samples:\n",
    "print(\"predict class of [-1., -1.]:\")\n",
    "print(tree_clf.predict([[-1., -1.]]))\n",
    "print(\"predict class of [2., 2.]:\")\n",
    "print(tree_clf.predict([[2., 2.]]))\n",
    "# the percentage of training samples of the same class\n",
    "# in a leaf note equals the probability of each class\n",
    "print(\"probability of each class in [2.,2.]:\")\n",
    "print(tree_clf.predict_proba([[2., 2.]]))"
   ]
  },
  {
   "cell_type": "markdown",
   "id": "previous-router",
   "metadata": {},
   "source": [
    "# Example #2"
   ]
  },
  {
   "cell_type": "code",
   "execution_count": null,
   "id": "adolescent-commissioner",
   "metadata": {},
   "outputs": [],
   "source": [
    "\"\"\"\n",
    "extends the code in Listing 6.1 by adding a third label, and also by predicting the label of three points\n",
    "instead of two points in the Euclidean plane \n",
    "\"\"\""
   ]
  },
  {
   "cell_type": "code",
   "execution_count": 2,
   "id": "capital-columbus",
   "metadata": {},
   "outputs": [
    {
     "name": "stdout",
     "output_type": "stream",
     "text": [
      "predict class of [-1., -1.]:\n",
      "[0]\n",
      "predict class of [0.8, 0.8]:\n",
      "[1]\n",
      "predict class of [2., 2.]:\n",
      "[2]\n",
      "probability of each class in [2.,2.]:\n",
      "[[0. 0. 1.]]\n"
     ]
    }
   ],
   "source": [
    "# X = pairs of 2D points and Y = the class of each point X = [[0, 0], [1, 1], [2,2]]\n",
    "Y = [0, 1, 2]\n",
    "tree_clf = tree.DecisionTreeClassifier()\n",
    "tree_clf = tree_clf.fit(X, Y)\n",
    "#predict the class of samples:\n",
    "print(\"predict class of [-1., -1.]:\")\n",
    "print(tree_clf.predict([[-1., -1.]]))\n",
    "print(\"predict class of [0.8, 0.8]:\")\n",
    "print(tree_clf.predict([[0.8, 0.8]]))\n",
    "print(\"predict class of [2., 2.]:\")\n",
    "print(tree_clf.predict([[2., 2.]]))\n",
    "# the percentage of training samples of the same class\n",
    "# in a leaf note equals the probability of each class\n",
    "print(\"probability of each class in [2.,2.]:\")\n",
    "print(tree_clf.predict_proba([[2., 2.]]))"
   ]
  },
  {
   "cell_type": "code",
   "execution_count": null,
   "id": "figured-wilderness",
   "metadata": {},
   "outputs": [],
   "source": []
  }
 ],
 "metadata": {
  "hide_input": false,
  "kernelspec": {
   "display_name": "trainingAI",
   "language": "python",
   "name": "trainingai"
  },
  "language_info": {
   "codemirror_mode": {
    "name": "ipython",
    "version": 3
   },
   "file_extension": ".py",
   "mimetype": "text/x-python",
   "name": "python",
   "nbconvert_exporter": "python",
   "pygments_lexer": "ipython3",
   "version": "3.8.5"
  }
 },
 "nbformat": 4,
 "nbformat_minor": 5
}
