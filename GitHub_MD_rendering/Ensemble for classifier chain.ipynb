{
 "cells": [
  {
   "cell_type": "markdown",
   "metadata": {},
   "source": [
    "# Introduction"
   ]
  },
  {
   "cell_type": "code",
   "execution_count": null,
   "metadata": {},
   "outputs": [],
   "source": [
    "\"\"\"\n",
    "What? Ensemble for classifier chain\n",
    "\n",
    "Reference: https://scikit-learn.org/stable/auto_examples/multioutput/plot_classifier_chain_yeast.html#sphx-glr-auto-examples-multioutput-plot-classifier-chain-yeast-py\n",
    "\"\"\""
   ]
  },
  {
   "cell_type": "markdown",
   "metadata": {},
   "source": [
    "# Import libraries"
   ]
  },
  {
   "cell_type": "code",
   "execution_count": 1,
   "metadata": {},
   "outputs": [],
   "source": [
    "import numpy as np\n",
    "import matplotlib.pyplot as plt\n",
    "from sklearn.datasets import fetch_openml\n",
    "from sklearn.multioutput import ClassifierChain\n",
    "from sklearn.model_selection import train_test_split\n",
    "from sklearn.multiclass import OneVsRestClassifier\n",
    "from sklearn.metrics import jaccard_score\n",
    "from sklearn.linear_model import LogisticRegression"
   ]
  },
  {
   "cell_type": "markdown",
   "metadata": {},
   "source": [
    "# Import dataset"
   ]
  },
  {
   "cell_type": "code",
   "execution_count": null,
   "metadata": {},
   "outputs": [],
   "source": [
    "\"\"\"\n",
    "For this example we will use the yeast dataset which contains 2417 datapoints each with 103 features and 14 \n",
    "possible labels. Each data point has at least one label. \n",
    "\"\"\""
   ]
  },
  {
   "cell_type": "code",
   "execution_count": 2,
   "metadata": {},
   "outputs": [],
   "source": [
    "# Load a multi-label dataset from https://www.openml.org/d/40597\n",
    "X, Y = fetch_openml('yeast', version=4, return_X_y=True)\n",
    "Y = Y == 'TRUE'\n",
    "X_train, X_test, Y_train, Y_test = train_test_split(X, Y, test_size=.2,\n",
    "                                                    random_state=0)"
   ]
  },
  {
   "cell_type": "markdown",
   "metadata": {},
   "source": [
    "# Fit single model"
   ]
  },
  {
   "cell_type": "code",
   "execution_count": null,
   "metadata": {},
   "outputs": [],
   "source": [
    "\"\"\"\n",
    "As a baseline we first train a logistic regression classifier for each of the 14 labels. To evaluate the \n",
    "performance of these classifiers we predict on a held-out test set and calculate the jaccard score for each sample.\n",
    "\"\"\""
   ]
  },
  {
   "cell_type": "code",
   "execution_count": 4,
   "metadata": {},
   "outputs": [],
   "source": [
    "# Fit an independent logistic regression model for each class using the\n",
    "# OneVsRestClassifier wrapper.\n",
    "base_lr = LogisticRegression()\n",
    "ovr = OneVsRestClassifier(base_lr)\n",
    "ovr.fit(X_train, Y_train)\n",
    "Y_pred_ovr = ovr.predict(X_test)\n",
    "ovr_jaccard_score = jaccard_score(Y_test, Y_pred_ovr, average='samples')"
   ]
  },
  {
   "cell_type": "markdown",
   "metadata": {},
   "source": [
    "# Create ensemble model"
   ]
  },
  {
   "cell_type": "code",
   "execution_count": null,
   "metadata": {},
   "outputs": [],
   "source": [
    "\"\"\"\n",
    "Next we create 10 classifier chains. Each classifier chain contains a logistic regression model for each of the\n",
    "14 labels. The models in each chain are ordered randomly. In addition to the 103 features in the dataset, each\n",
    "model gets the predictions of the preceding models in the chain as features (note that by default at training \n",
    "time each model gets the true labels as features). These additional features allow each chain to exploit \n",
    "correlations among the classes. The Jaccard similarity score for each chain tends to be greater than that \n",
    "of the set independent logistic models.\n",
    "\"\"\""
   ]
  },
  {
   "cell_type": "code",
   "execution_count": 5,
   "metadata": {},
   "outputs": [],
   "source": [
    "# Fit an ensemble of logistic regression classifier chains and take the\n",
    "# take the average prediction of all the chains.\n",
    "chains = [ClassifierChain(base_lr, order='random', random_state=i)\n",
    "          for i in range(10)]\n",
    "for chain in chains:\n",
    "    chain.fit(X_train, Y_train)\n",
    "\n",
    "Y_pred_chains = np.array([chain.predict(X_test) for chain in\n",
    "                          chains])\n",
    "chain_jaccard_scores = [jaccard_score(Y_test, Y_pred_chain >= .5,\n",
    "                                      average='samples')\n",
    "                        for Y_pred_chain in Y_pred_chains]\n",
    "\n",
    "Y_pred_ensemble = Y_pred_chains.mean(axis=0)\n",
    "ensemble_jaccard_score = jaccard_score(Y_test,\n",
    "                                       Y_pred_ensemble >= .5,\n",
    "                                       average='samples')\n",
    "\n",
    "model_scores = [ovr_jaccard_score] + chain_jaccard_scores\n",
    "model_scores.append(ensemble_jaccard_score)\n",
    "\n",
    "model_names = ('Independent',\n",
    "               'Chain 1',\n",
    "               'Chain 2',\n",
    "               'Chain 3',\n",
    "               'Chain 4',\n",
    "               'Chain 5',\n",
    "               'Chain 6',\n",
    "               'Chain 7',\n",
    "               'Chain 8',\n",
    "               'Chain 9',\n",
    "               'Chain 10',\n",
    "               'Ensemble')\n",
    "\n",
    "x_pos = np.arange(len(model_names))"
   ]
  },
  {
   "cell_type": "markdown",
   "metadata": {},
   "source": [
    "# Plotting"
   ]
  },
  {
   "cell_type": "code",
   "execution_count": null,
   "metadata": {},
   "outputs": [],
   "source": [
    "\"\"\"\n",
    "Plot the Jaccard similarity scores for the independent model, each of the\n",
    "chains, and the ensemble (note that the vertical axis on this plot does\n",
    "not begin at 0).\n",
    "\"\"\""
   ]
  },
  {
   "cell_type": "code",
   "execution_count": 6,
   "metadata": {},
   "outputs": [
    {
     "data": {
      "image/png": "[encoded data removed]",
      "text/plain": [
       "<Figure size 504x288 with 1 Axes>"
      ]
     },
     "metadata": {
      "needs_background": "light"
     },
     "output_type": "display_data"
    }
   ],
   "source": [
    "fig, ax = plt.subplots(figsize=(7, 4))\n",
    "ax.grid(True)\n",
    "ax.set_title('Classifier Chain Ensemble Performance Comparison')\n",
    "ax.set_xticks(x_pos)\n",
    "ax.set_xticklabels(model_names, rotation='vertical')\n",
    "ax.set_ylabel('Jaccard Similarity Score')\n",
    "ax.set_ylim([min(model_scores) * .9, max(model_scores) * 1.1])\n",
    "colors = ['r'] + ['b'] * len(chain_jaccard_scores) + ['g']\n",
    "ax.bar(x_pos, model_scores, alpha=0.5, color=colors)\n",
    "plt.tight_layout()\n",
    "plt.show()"
   ]
  },
  {
   "cell_type": "code",
   "execution_count": null,
   "metadata": {},
   "outputs": [],
   "source": []
  }
 ],
 "metadata": {
  "kernelspec": {
   "display_name": "trainingAI",
   "language": "python",
   "name": "trainingai"
  },
  "language_info": {
   "codemirror_mode": {
    "name": "ipython",
    "version": 3
   },
   "file_extension": ".py",
   "mimetype": "text/x-python",
   "name": "python",
   "nbconvert_exporter": "python",
   "pygments_lexer": "ipython3",
   "version": "3.8.5"
  }
 },
 "nbformat": 4,
 "nbformat_minor": 5
}
