{
 "cells": [
  {
   "cell_type": "markdown",
   "metadata": {},
   "source": [
    "# Introduction"
   ]
  },
  {
   "cell_type": "code",
   "execution_count": 1,
   "metadata": {},
   "outputs": [
    {
     "data": {
      "text/plain": [
       "'\\nWhat? Bagging with random forest\\n\\nRevision No: 1\\nLaste revised: 08/02/21\\nReference: Corey Wade. “Hands-On Gradient Boosting with XGBoost and scikit-learn\\nGLM\\n'"
      ]
     },
     "execution_count": 1,
     "metadata": {},
     "output_type": "execute_result"
    }
   ],
   "source": [
    "\"\"\"\n",
    "What? Bagging with random forest applied to regression on bike rental dataset\n",
    "\n",
    "Corey Wade. “Hands-On Gradient Boosting with XGBoost and scikit-learn\n",
    "https://github.com/PacktPublishing/Hands-On-Gradient-Boosting-with-XGBoost-and-Scikit-learn\n",
    "\"\"\""
   ]
  },
  {
   "cell_type": "markdown",
   "metadata": {},
   "source": [
    "# Import modules"
   ]
  },
  {
   "cell_type": "code",
   "execution_count": 30,
   "metadata": {},
   "outputs": [],
   "source": [
    "import pandas as pd\n",
    "import numpy as np\n",
    "from sklearn.utils import shuffle\n",
    "from pylab import rcParams\n",
    "from matplotlib import pyplot\n",
    "from sklearn.ensemble import RandomForestClassifier\n",
    "from sklearn.ensemble import RandomForestRegressor\n",
    "from sklearn.model_selection import cross_val_score\n",
    "import warnings\n",
    "warnings.filterwarnings('ignore')\n",
    "import matplotlib.pyplot as plt\n",
    "from sklearn.model_selection import train_test_split\n",
    "from sklearn.model_selection import RandomizedSearchCV\n",
    "from sklearn.metrics import mean_squared_error as MSE"
   ]
  },
  {
   "cell_type": "markdown",
   "metadata": {},
   "source": [
    "# Problem statement"
   ]
  },
  {
   "cell_type": "code",
   "execution_count": null,
   "metadata": {},
   "outputs": [],
   "source": [
    "\"\"\"\n",
    "Imagine you work for a bike rental company and your goal is to predict the number of bike rentals per day \n",
    "depending upon the weather, the time of day, the time of year, and the growth of the company.”\n",
    "\"\"\""
   ]
  },
  {
   "cell_type": "markdown",
   "metadata": {},
   "source": [
    "# Load dataset"
   ]
  },
  {
   "cell_type": "code",
   "execution_count": 14,
   "metadata": {},
   "outputs": [],
   "source": [
    "# Upload csv file 'bike_rentals_cleaned' as df_bikes\n",
    "df_bikes = pd.read_csv('../../DATASETS/bike_rentals_cleaned.csv')"
   ]
  },
  {
   "cell_type": "code",
   "execution_count": 15,
   "metadata": {},
   "outputs": [
    {
     "data": {
      "text/html": [
       "<style scoped>\n",
       "    .dataframe tbody tr th:only-of-type {\n",
       "        vertical-align: middle;\n",
       "    }\n",
       "\n",
       "    .dataframe tbody tr th {\n",
       "        vertical-align: top;\n",
       "    }\n",
       "\n",
       "    .dataframe thead th {\n",
       "        text-align: right;\n",
       "    }\n",
       "</style>\n",
       "<table border=\"1\" class=\"dataframe\">\n",
       "  <thead>\n",
       "    <tr style=\"text-align: right;\">\n",
       "      <th></th>\n",
       "      <th>instant</th>\n",
       "      <th>season</th>\n",
       "      <th>yr</th>\n",
       "      <th>mnth</th>\n",
       "      <th>holiday</th>\n",
       "      <th>weekday</th>\n",
       "      <th>workingday</th>\n",
       "      <th>weathersit</th>\n",
       "      <th>temp</th>\n",
       "      <th>atemp</th>\n",
       "      <th>hum</th>\n",
       "      <th>windspeed</th>\n",
       "      <th>cnt</th>\n",
       "    </tr>\n",
       "  </thead>\n",
       "  <tbody>\n",
       "    <tr>\n",
       "      <th>0</th>\n",
       "      <td>1</td>\n",
       "      <td>1.0</td>\n",
       "      <td>0.0</td>\n",
       "      <td>1</td>\n",
       "      <td>0.0</td>\n",
       "      <td>6.0</td>\n",
       "      <td>0.0</td>\n",
       "      <td>2</td>\n",
       "      <td>0.344167</td>\n",
       "      <td>0.363625</td>\n",
       "      <td>0.805833</td>\n",
       "      <td>0.160446</td>\n",
       "      <td>985</td>\n",
       "    </tr>\n",
       "    <tr>\n",
       "      <th>1</th>\n",
       "      <td>2</td>\n",
       "      <td>1.0</td>\n",
       "      <td>0.0</td>\n",
       "      <td>1</td>\n",
       "      <td>0.0</td>\n",
       "      <td>0.0</td>\n",
       "      <td>0.0</td>\n",
       "      <td>2</td>\n",
       "      <td>0.363478</td>\n",
       "      <td>0.353739</td>\n",
       "      <td>0.696087</td>\n",
       "      <td>0.248539</td>\n",
       "      <td>801</td>\n",
       "    </tr>\n",
       "    <tr>\n",
       "      <th>2</th>\n",
       "      <td>3</td>\n",
       "      <td>1.0</td>\n",
       "      <td>0.0</td>\n",
       "      <td>1</td>\n",
       "      <td>0.0</td>\n",
       "      <td>1.0</td>\n",
       "      <td>1.0</td>\n",
       "      <td>1</td>\n",
       "      <td>0.196364</td>\n",
       "      <td>0.189405</td>\n",
       "      <td>0.437273</td>\n",
       "      <td>0.248309</td>\n",
       "      <td>1349</td>\n",
       "    </tr>\n",
       "    <tr>\n",
       "      <th>3</th>\n",
       "      <td>4</td>\n",
       "      <td>1.0</td>\n",
       "      <td>0.0</td>\n",
       "      <td>1</td>\n",
       "      <td>0.0</td>\n",
       "      <td>2.0</td>\n",
       "      <td>1.0</td>\n",
       "      <td>1</td>\n",
       "      <td>0.200000</td>\n",
       "      <td>0.212122</td>\n",
       "      <td>0.590435</td>\n",
       "      <td>0.160296</td>\n",
       "      <td>1562</td>\n",
       "    </tr>\n",
       "    <tr>\n",
       "      <th>4</th>\n",
       "      <td>5</td>\n",
       "      <td>1.0</td>\n",
       "      <td>0.0</td>\n",
       "      <td>1</td>\n",
       "      <td>0.0</td>\n",
       "      <td>3.0</td>\n",
       "      <td>1.0</td>\n",
       "      <td>1</td>\n",
       "      <td>0.226957</td>\n",
       "      <td>0.229270</td>\n",
       "      <td>0.436957</td>\n",
       "      <td>0.186900</td>\n",
       "      <td>1600</td>\n",
       "    </tr>\n",
       "  </tbody>\n",
       "</table>\n",
""      ],
      "text/plain": [
       "   instant  season   yr  mnth  holiday  weekday  workingday  weathersit  \\\n",
       "0        1     1.0  0.0     1      0.0      6.0         0.0           2   \n",
       "1        2     1.0  0.0     1      0.0      0.0         0.0           2   \n",
       "2        3     1.0  0.0     1      0.0      1.0         1.0           1   \n",
       "3        4     1.0  0.0     1      0.0      2.0         1.0           1   \n",
       "4        5     1.0  0.0     1      0.0      3.0         1.0           1   \n",
       "\n",
       "       temp     atemp       hum  windspeed   cnt  \n",
       "0  0.344167  0.363625  0.805833   0.160446   985  \n",
       "1  0.363478  0.353739  0.696087   0.248539   801  \n",
       "2  0.196364  0.189405  0.437273   0.248309  1349  \n",
       "3  0.200000  0.212122  0.590435   0.160296  1562  \n",
       "4  0.226957  0.229270  0.436957   0.186900  1600  "
      ]
     },
     "execution_count": 15,
     "metadata": {},
     "output_type": "execute_result"
    }
   ],
   "source": [
    "# Show first 5 rows\n",
    "df_bikes.head(5)"
   ]
  },
  {
   "cell_type": "code",
   "execution_count": 16,
   "metadata": {},
   "outputs": [],
   "source": [
    "# Split data into X and y\n",
    "X_bikes = df_bikes.iloc[:,:-1]\n",
    "y_bikes = df_bikes.iloc[:,-1]\n",
    "\n",
    "# Split data into train and test sets\n",
    "X_train, X_test, y_train, y_test = train_test_split(X_bikes, y_bikes, random_state=2)"
   ]
  },
  {
   "cell_type": "markdown",
   "metadata": {},
   "source": [
    "# Get baseline reasonable performance"
   ]
  },
  {
   "cell_type": "code",
   "execution_count": 18,
   "metadata": {},
   "outputs": [
    {
     "name": "stdout",
     "output_type": "stream",
     "text": [
      "RMSE: [ 836.482  541.898  533.086  812.782  894.877  881.117  794.103  828.968\n",
      "  772.517 2128.148]\n",
      "RMSE mean: 902.398\n"
     ]
    }
   ],
   "source": [
    "# Initalize Random Forest as rf with 50 estimators, warm_start=True, and oob_score=True\n",
    "rf = RandomForestRegressor(n_estimators=50, warm_start=True, n_jobs=-1, random_state=2)\n",
    "   \n",
    "# Obtain scores of cross-validation using num_splits and mean squared error\n",
    "scores = cross_val_score(rf, X_bikes, y_bikes, scoring='neg_mean_squared_error', cv=10)\n",
    "    \n",
    "# Print error\n",
    "rmse = np.sqrt(-scores)\n",
    "print('RMSE:', np.round(rmse, 3))\n",
    "print('RMSE mean: %0.3f' % (rmse.mean()))"
   ]
  },
  {
   "cell_type": "code",
   "execution_count": null,
   "metadata": {},
   "outputs": [],
   "source": [
    "\"\"\"\n",
    "This score is better than earlier in the chapter. Notice that the error in the last fold is much higher according \n",
    "to the last entry in the RMSE array. This could be due to errors within the data or outliers.\n",
    "\"\"\""
   ]
  },
  {
   "cell_type": "markdown",
   "metadata": {},
   "source": [
    "# Create function for parameter hypertuning"
   ]
  },
  {
   "cell_type": "code",
   "execution_count": 21,
   "metadata": {},
   "outputs": [],
   "source": [
    "def randomized_search_reg(params, runs=16, reg=RandomForestRegressor(random_state=2, n_jobs=-1)):\n",
    "\n",
    "    # Instantiate RandomizedSearchCV as grid_reg\n",
    "    rand_reg = RandomizedSearchCV(reg, params, n_iter=runs, scoring='neg_mean_squared_error',\n",
    "                                  cv=10, n_jobs=-1, random_state=2)\n",
    "\n",
    "    # Fit grid_reg on X_train and y_train\n",
    "    rand_reg.fit(X_train, y_train)\n",
    "\n",
    "    # Extract best estimator\n",
    "    best_model = rand_reg.best_estimator_\n",
    "\n",
    "    # Extract best params\n",
    "    best_params = rand_reg.best_params_\n",
    "\n",
    "    # Print best params\n",
    "    print(\"Best params:\", best_params)\n",
    "\n",
    "    # Compute best score\n",
    "    best_score = np.sqrt(-rand_reg.best_score_)\n",
    "\n",
    "    # Print best score\n",
    "    print(\"Training score: {:.3f}\".format(best_score))\n",
    "\n",
    "    # Predict test set labels\n",
    "    y_pred = best_model.predict(X_test)\n",
    "\n",
    "    # Compute rmse_test\n",
    "    rmse_test = MSE(y_test, y_pred)**0.5\n",
    "\n",
    "    # Print rmse_test\n",
    "    print('Test set score: {:.3f}'.format(rmse_test))"
   ]
  },
  {
   "cell_type": "markdown",
   "metadata": {},
   "source": [
    "### Trial No 1"
   ]
  },
  {
   "cell_type": "code",
   "execution_count": 22,
   "metadata": {},
   "outputs": [
    {
     "name": "stdout",
     "output_type": "stream",
     "text": [
      "Best params: {'min_weight_fraction_leaf': 0.0, 'min_samples_split': 0.03, 'min_samples_leaf': 6, 'min_impurity_decrease': 0.05, 'max_leaf_nodes': 25, 'max_features': 0.7, 'max_depth': None}\n",
      "Training score: 759.076\n",
      "Test set score: 701.802\n"
     ]
    }
   ],
   "source": [
    "randomized_search_reg(params={'min_weight_fraction_leaf':[0.0, 0.0025, 0.005, 0.0075, 0.01, 0.05],\n",
    "                          'min_samples_split':[2, 0.01, 0.02, 0.03, 0.04, 0.06, 0.08, 0.1],\n",
    "                          'min_samples_leaf':[1,2,4,6,8,10,20,30],\n",
    "                          'min_impurity_decrease':[0.0, 0.01, 0.05, 0.10, 0.15, 0.2],\n",
    "                          'max_leaf_nodes':[10, 15, 20, 25, 30, 35, 40, 45, 50, None],\n",
    "                          'max_features':['auto', 0.8, 0.7, 0.6, 0.5, 0.4],\n",
    "                          'max_depth':[None,2,4,6,8,10,20]\n",
    "                         })"
   ]
  },
  {
   "cell_type": "markdown",
   "metadata": {},
   "source": [
    "### Trial No 2"
   ]
  },
  {
   "cell_type": "code",
   "execution_count": 23,
   "metadata": {},
   "outputs": [
    {
     "name": "stdout",
     "output_type": "stream",
     "text": [
      "Best params: {'min_samples_leaf': 1, 'min_impurity_decrease': 0.1, 'max_features': 0.6, 'max_depth': 10}\n",
      "Training score: 679.052\n",
      "Test set score: 626.541\n"
     ]
    }
   ],
   "source": [
    "randomized_search_reg(params={\n",
    "                          'min_samples_leaf':[1,2,4,6,8,10,20,30],\n",
    "                          'min_impurity_decrease':[0.0, 0.01, 0.05, 0.10, 0.15, 0.2],\n",
    "                          'max_features':['auto', 0.8, 0.7, 0.6, 0.5, 0.4],\n",
    "                          'max_depth':[None,2,4,6,8,10,20],\n",
    "                         })"
   ]
  },
  {
   "cell_type": "markdown",
   "metadata": {},
   "source": [
    "### Trial No 3"
   ]
  },
  {
   "cell_type": "code",
   "execution_count": 24,
   "metadata": {},
   "outputs": [
    {
     "name": "stdout",
     "output_type": "stream",
     "text": [
      "Best params: {'min_samples_leaf': 1, 'min_impurity_decrease': 0.1, 'max_features': 0.6, 'max_depth': 12}\n",
      "Training score: 675.128\n",
      "Test set score: 619.014\n"
     ]
    }
   ],
   "source": [
    "randomized_search_reg(params={\n",
    "                          'min_samples_leaf':[1,2,4,6,8,10,20,30],\n",
    "                          'min_impurity_decrease':[0.0, 0.01, 0.05, 0.10, 0.15, 0.2],\n",
    "                          'max_features':['auto', 0.8, 0.7, 0.6, 0.5, 0.4],\n",
    "                          'max_depth':[None,4,6,8,10,12,15,20]\n",
    "                         }, runs=20)"
   ]
  },
  {
   "cell_type": "markdown",
   "metadata": {},
   "source": [
    "### Trial No 4"
   ]
  },
  {
   "cell_type": "code",
   "execution_count": 19,
   "metadata": {},
   "outputs": [
    {
     "name": "stdout",
     "output_type": "stream",
     "text": [
      "Best params: {'min_samples_leaf': 1, 'min_impurity_decrease': 0.05, 'max_features': 0.7, 'max_depth': 18}\n",
      "Training score: 679.595\n",
      "Test set score: 630.954\n"
     ]
    }
   ],
   "source": [
    "randomized_search_reg(params={\n",
    "                          'min_samples_leaf':[1,2,3,4,5,6],\n",
    "                          'min_impurity_decrease':[0.0, 0.01, 0.05, 0.08, 0.10, 0.12, 0.15],\n",
    "                          'max_features':['auto', 0.8, 0.7, 0.6, 0.5, 0.4],\n",
    "                          'max_depth':[None,8,10,12,14,16,18,20]\n",
    "                         })"
   ]
  },
  {
   "cell_type": "markdown",
   "metadata": {},
   "source": [
    "### Trial No 5"
   ]
  },
  {
   "cell_type": "code",
   "execution_count": 25,
   "metadata": {},
   "outputs": [
    {
     "name": "stdout",
     "output_type": "stream",
     "text": [
      "Best params: {'n_estimators': 100, 'min_samples_leaf': 1, 'min_impurity_decrease': 0.1, 'max_features': 0.6, 'max_depth': 12}\n",
      "Training score: 675.128\n",
      "Test set score: 619.014\n"
     ]
    }
   ],
   "source": [
    "randomized_search_reg(params={\n",
    "                          'min_samples_leaf':[1,2,4,6,8,10,20,30],\n",
    "                          'min_impurity_decrease':[0.0, 0.01, 0.05, 0.10, 0.15, 0.2],\n",
    "                          'max_features':['auto', 0.8, 0.7, 0.6, 0.5, 0.4],\n",
    "                          'max_depth':[None,4,6,8,10,12,15,20],\n",
    "                        'n_estimators':[100]\n",
    "                         }, runs=20)"
   ]
  },
  {
   "cell_type": "markdown",
   "metadata": {},
   "source": [
    "### Trial No 6"
   ]
  },
  {
   "cell_type": "code",
   "execution_count": 26,
   "metadata": {},
   "outputs": [
    {
     "name": "stdout",
     "output_type": "stream",
     "text": [
      "Best params: {'n_estimators': 100, 'min_samples_leaf': 1, 'min_impurity_decrease': 0.0, 'max_features': 0.6, 'max_depth': 20}\n",
      "Training score: 673.982\n",
      "Test set score: 623.106\n"
     ]
    }
   ],
   "source": [
    "randomized_search_reg(params={\n",
    "                          'min_samples_leaf':[1,2,3],\n",
    "                          'min_impurity_decrease':[0.0, 0.01, 0.05, 0.10],\n",
    "                          'max_features':[0.6],\n",
    "                          'max_depth':[10,12,14,16,18,20],\n",
    "                        'n_estimators':[100]\n",
    "                         }, runs=20)"
   ]
  },
  {
   "cell_type": "markdown",
   "metadata": {},
   "source": [
    "# Test best parameters against all dataset"
   ]
  },
  {
   "cell_type": "code",
   "execution_count": 27,
   "metadata": {},
   "outputs": [
    {
     "name": "stdout",
     "output_type": "stream",
     "text": [
      "RMSE: [ 818.354  514.173  547.392  814.059  769.54   730.025  831.376  794.634\n",
      "  756.83  1595.237]\n",
      "RMSE mean: 817.162\n"
     ]
    }
   ],
   "source": [
    "# Initalize Random Forest as rf with 100 estimators, warm_start=True, and oob_score=True\n",
    "rf = RandomForestRegressor(n_estimators=100,  min_impurity_decrease=0.1, max_features=0.6, max_depth=12, n_jobs=-1, random_state=2)\n",
    "   \n",
    "# Obtain scores of cross-validation using num_splits and mean squared error\n",
    "scores = cross_val_score(rf, X_bikes, y_bikes, scoring='neg_mean_squared_error', cv=10)\n",
    "    \n",
    "# Take square root of the scores\n",
    "rmse = np.sqrt(-scores)\n",
    "    \n",
    "# Display accuracy\n",
    "print('RMSE:', np.round(rmse, 3))\n",
    "\n",
    "# Display mean score\n",
    "print('RMSE mean: %0.3f' % (rmse.mean()))"
   ]
  },
  {
   "cell_type": "code",
   "execution_count": null,
   "metadata": {},
   "outputs": [],
   "source": [
    "\"\"\"\n",
    "The RMSE goes back up to 817. The score is much better than 903, but it's considerably worse than 619. What's \n",
    "going on here? There may be an issue with the last split in cross_val_score since its score is twice as bad as\n",
    "the others. Let's see if shuffling the data does the trick.\n",
    "\"\"\""
   ]
  },
  {
   "cell_type": "code",
   "execution_count": 29,
   "metadata": {},
   "outputs": [
    {
     "data": {
      "text/html": [
       "<style scoped>\n",
       "    .dataframe tbody tr th:only-of-type {\n",
       "        vertical-align: middle;\n",
       "    }\n",
       "\n",
       "    .dataframe tbody tr th {\n",
       "        vertical-align: top;\n",
       "    }\n",
       "\n",
       "    .dataframe thead th {\n",
       "        text-align: right;\n",
       "    }\n",
       "</style>\n",
       "<table border=\"1\" class=\"dataframe\">\n",
       "  <thead>\n",
       "    <tr style=\"text-align: right;\">\n",
       "      <th></th>\n",
       "      <th>instant</th>\n",
       "      <th>season</th>\n",
       "      <th>yr</th>\n",
       "      <th>mnth</th>\n",
       "      <th>holiday</th>\n",
       "      <th>weekday</th>\n",
       "      <th>workingday</th>\n",
       "      <th>weathersit</th>\n",
       "      <th>temp</th>\n",
       "      <th>atemp</th>\n",
       "      <th>hum</th>\n",
       "      <th>windspeed</th>\n",
       "      <th>cnt</th>\n",
       "    </tr>\n",
       "  </thead>\n",
       "  <tbody>\n",
       "    <tr>\n",
       "      <th>0</th>\n",
       "      <td>1</td>\n",
       "      <td>1.0</td>\n",
       "      <td>0.0</td>\n",
       "      <td>1</td>\n",
       "      <td>0.0</td>\n",
       "      <td>6.0</td>\n",
       "      <td>0.0</td>\n",
       "      <td>2</td>\n",
       "      <td>0.344167</td>\n",
       "      <td>0.363625</td>\n",
       "      <td>0.805833</td>\n",
       "      <td>0.160446</td>\n",
       "      <td>985</td>\n",
       "    </tr>\n",
       "    <tr>\n",
       "      <th>1</th>\n",
       "      <td>2</td>\n",
       "      <td>1.0</td>\n",
       "      <td>0.0</td>\n",
       "      <td>1</td>\n",
       "      <td>0.0</td>\n",
       "      <td>0.0</td>\n",
       "      <td>0.0</td>\n",
       "      <td>2</td>\n",
       "      <td>0.363478</td>\n",
       "      <td>0.353739</td>\n",
       "      <td>0.696087</td>\n",
       "      <td>0.248539</td>\n",
       "      <td>801</td>\n",
       "    </tr>\n",
       "    <tr>\n",
       "      <th>2</th>\n",
       "      <td>3</td>\n",
       "      <td>1.0</td>\n",
       "      <td>0.0</td>\n",
       "      <td>1</td>\n",
       "      <td>0.0</td>\n",
       "      <td>1.0</td>\n",
       "      <td>1.0</td>\n",
       "      <td>1</td>\n",
       "      <td>0.196364</td>\n",
       "      <td>0.189405</td>\n",
       "      <td>0.437273</td>\n",
       "      <td>0.248309</td>\n",
       "      <td>1349</td>\n",
       "    </tr>\n",
       "    <tr>\n",
       "      <th>3</th>\n",
       "      <td>4</td>\n",
       "      <td>1.0</td>\n",
       "      <td>0.0</td>\n",
       "      <td>1</td>\n",
       "      <td>0.0</td>\n",
       "      <td>2.0</td>\n",
       "      <td>1.0</td>\n",
       "      <td>1</td>\n",
       "      <td>0.200000</td>\n",
       "      <td>0.212122</td>\n",
       "      <td>0.590435</td>\n",
       "      <td>0.160296</td>\n",
       "      <td>1562</td>\n",
       "    </tr>\n",
       "    <tr>\n",
       "      <th>4</th>\n",
       "      <td>5</td>\n",
       "      <td>1.0</td>\n",
       "      <td>0.0</td>\n",
       "      <td>1</td>\n",
       "      <td>0.0</td>\n",
       "      <td>3.0</td>\n",
       "      <td>1.0</td>\n",
       "      <td>1</td>\n",
       "      <td>0.226957</td>\n",
       "      <td>0.229270</td>\n",
       "      <td>0.436957</td>\n",
       "      <td>0.186900</td>\n",
       "      <td>1600</td>\n",
       "    </tr>\n",
       "  </tbody>\n",
       "</table>\n",
""      ],
      "text/plain": [
       "   instant  season   yr  mnth  holiday  weekday  workingday  weathersit  \\\n",
       "0        1     1.0  0.0     1      0.0      6.0         0.0           2   \n",
       "1        2     1.0  0.0     1      0.0      0.0         0.0           2   \n",
       "2        3     1.0  0.0     1      0.0      1.0         1.0           1   \n",
       "3        4     1.0  0.0     1      0.0      2.0         1.0           1   \n",
       "4        5     1.0  0.0     1      0.0      3.0         1.0           1   \n",
       "\n",
       "       temp     atemp       hum  windspeed   cnt  \n",
       "0  0.344167  0.363625  0.805833   0.160446   985  \n",
       "1  0.363478  0.353739  0.696087   0.248539   801  \n",
       "2  0.196364  0.189405  0.437273   0.248309  1349  \n",
       "3  0.200000  0.212122  0.590435   0.160296  1562  \n",
       "4  0.226957  0.229270  0.436957   0.186900  1600  "
      ]
     },
     "execution_count": 29,
     "metadata": {},
     "output_type": "execute_result"
    }
   ],
   "source": [
    "df_bikes.head()"
   ]
  },
  {
   "cell_type": "code",
   "execution_count": 32,
   "metadata": {},
   "outputs": [
    {
     "data": {
      "text/html": [
       "<style scoped>\n",
       "    .dataframe tbody tr th:only-of-type {\n",
       "        vertical-align: middle;\n",
       "    }\n",
       "\n",
       "    .dataframe tbody tr th {\n",
       "        vertical-align: top;\n",
       "    }\n",
       "\n",
       "    .dataframe thead th {\n",
       "        text-align: right;\n",
       "    }\n",
       "</style>\n",
       "<table border=\"1\" class=\"dataframe\">\n",
       "  <thead>\n",
       "    <tr style=\"text-align: right;\">\n",
       "      <th></th>\n",
       "      <th>instant</th>\n",
       "      <th>season</th>\n",
       "      <th>yr</th>\n",
       "      <th>mnth</th>\n",
       "      <th>holiday</th>\n",
       "      <th>weekday</th>\n",
       "      <th>workingday</th>\n",
       "      <th>weathersit</th>\n",
       "      <th>temp</th>\n",
       "      <th>atemp</th>\n",
       "      <th>hum</th>\n",
       "      <th>windspeed</th>\n",
       "      <th>cnt</th>\n",
       "    </tr>\n",
       "  </thead>\n",
       "  <tbody>\n",
       "    <tr>\n",
       "      <th>671</th>\n",
       "      <td>672</td>\n",
       "      <td>4.0</td>\n",
       "      <td>1.0</td>\n",
       "      <td>11</td>\n",
       "      <td>0.0</td>\n",
       "      <td>5.0</td>\n",
       "      <td>1.0</td>\n",
       "      <td>1</td>\n",
       "      <td>0.355000</td>\n",
       "      <td>0.356042</td>\n",
       "      <td>0.522083</td>\n",
       "      <td>0.266175</td>\n",
       "      <td>5847</td>\n",
       "    </tr>\n",
       "    <tr>\n",
       "      <th>199</th>\n",
       "      <td>200</td>\n",
       "      <td>3.0</td>\n",
       "      <td>0.0</td>\n",
       "      <td>7</td>\n",
       "      <td>0.0</td>\n",
       "      <td>2.0</td>\n",
       "      <td>1.0</td>\n",
       "      <td>1</td>\n",
       "      <td>0.776667</td>\n",
       "      <td>0.747479</td>\n",
       "      <td>0.650417</td>\n",
       "      <td>0.130600</td>\n",
       "      <td>4541</td>\n",
       "    </tr>\n",
       "    <tr>\n",
       "      <th>77</th>\n",
       "      <td>78</td>\n",
       "      <td>1.0</td>\n",
       "      <td>0.0</td>\n",
       "      <td>3</td>\n",
       "      <td>0.0</td>\n",
       "      <td>6.0</td>\n",
       "      <td>0.0</td>\n",
       "      <td>1</td>\n",
       "      <td>0.472500</td>\n",
       "      <td>0.466525</td>\n",
       "      <td>0.379167</td>\n",
       "      <td>0.368167</td>\n",
       "      <td>3117</td>\n",
       "    </tr>\n",
       "    <tr>\n",
       "      <th>225</th>\n",
       "      <td>226</td>\n",
       "      <td>3.0</td>\n",
       "      <td>0.0</td>\n",
       "      <td>8</td>\n",
       "      <td>0.0</td>\n",
       "      <td>0.0</td>\n",
       "      <td>0.0</td>\n",
       "      <td>2</td>\n",
       "      <td>0.676667</td>\n",
       "      <td>0.624388</td>\n",
       "      <td>0.817500</td>\n",
       "      <td>0.222633</td>\n",
       "      <td>3820</td>\n",
       "    </tr>\n",
       "    <tr>\n",
       "      <th>37</th>\n",
       "      <td>38</td>\n",
       "      <td>1.0</td>\n",
       "      <td>0.0</td>\n",
       "      <td>2</td>\n",
       "      <td>0.0</td>\n",
       "      <td>1.0</td>\n",
       "      <td>1.0</td>\n",
       "      <td>1</td>\n",
       "      <td>0.271667</td>\n",
       "      <td>0.303658</td>\n",
       "      <td>0.738333</td>\n",
       "      <td>0.045408</td>\n",
       "      <td>1712</td>\n",
       "    </tr>\n",
       "  </tbody>\n",
       "</table>\n",
""      ],
      "text/plain": [
       "     instant  season   yr  mnth  holiday  weekday  workingday  weathersit  \\\n",
       "671      672     4.0  1.0    11      0.0      5.0         1.0           1   \n",
       "199      200     3.0  0.0     7      0.0      2.0         1.0           1   \n",
       "77        78     1.0  0.0     3      0.0      6.0         0.0           1   \n",
       "225      226     3.0  0.0     8      0.0      0.0         0.0           2   \n",
       "37        38     1.0  0.0     2      0.0      1.0         1.0           1   \n",
       "\n",
       "         temp     atemp       hum  windspeed   cnt  \n",
       "671  0.355000  0.356042  0.522083   0.266175  5847  \n",
       "199  0.776667  0.747479  0.650417   0.130600  4541  \n",
       "77   0.472500  0.466525  0.379167   0.368167  3117  \n",
       "225  0.676667  0.624388  0.817500   0.222633  3820  \n",
       "37   0.271667  0.303658  0.738333   0.045408  1712  "
      ]
     },
     "execution_count": 32,
     "metadata": {},
     "output_type": "execute_result"
    }
   ],
   "source": [
    "df_shuffle_bikes = shuffle(df_bikes, random_state=2)\n",
    "df_shuffle_bikes.head()"
   ]
  },
  {
   "cell_type": "code",
   "execution_count": 33,
   "metadata": {},
   "outputs": [],
   "source": [
    "# Split data into X and y\n",
    "X_shuffle_bikes = df_shuffle_bikes.iloc[:,:-1]\n",
    "y_shuffle_bikes = df_shuffle_bikes.iloc[:,-1]"
   ]
  },
  {
   "cell_type": "code",
   "execution_count": 34,
   "metadata": {},
   "outputs": [
    {
     "name": "stdout",
     "output_type": "stream",
     "text": [
      "RMSE: [630.093 686.673 468.159 526.676 593.033 724.575 774.402 672.63  760.253\n",
      " 616.797]\n",
      "RMSE mean: 645.329\n"
     ]
    }
   ],
   "source": [
    "# Initalize Random Forest as rf with 100 estimators, warm_start=True, and oob_score=True\n",
    "rf = RandomForestRegressor(n_estimators=100,  min_impurity_decrease=0.1, max_features=0.6, max_depth=12, n_jobs=-1, random_state=2)\n",
    "   \n",
    "# Obtain scores of cross-validation using num_splits and mean squared error\n",
    "scores = cross_val_score(rf, X_shuffle_bikes, y_shuffle_bikes, scoring='neg_mean_squared_error', cv=10)\n",
    "    \n",
    "# Take square root of the scores\n",
    "rmse = np.sqrt(-scores)\n",
    "    \n",
    "# Display accuracy\n",
    "print('RMSE:', np.round(rmse, 3))\n",
    "\n",
    "# Display mean score\n",
    "print('RMSE mean: %0.3f' % (rmse.mean()))"
   ]
  },
  {
   "cell_type": "code",
   "execution_count": null,
   "metadata": {},
   "outputs": [],
   "source": [
    "\"\"\"\n",
    "In the shuffled data, there is no issue with the last split, and the score is much higher, as expected.\n",
    "\n",
    "At the end of the day, the random forest is limited by its individual trees. If all trees make the same \n",
    "mistake, the random forest makes this mistake. There are scenarios, as is revealed in this case study before\n",
    "the data was shuffled, where random forests are unable to significantly improve upon errors due to challenges\n",
    "within the data that individual trees are unable to address.\n",
    "\n",
    "An ensemble method capable of improving upon initial shortcomings, an ensemble method that will learn from the \n",
    "mistakes of trees in future rounds, could be advantageous. Boosting was designed to learn from the mistakes of\n",
    "trees in early rounds. Boosting, in particular gradient boosting – the focus of the next chapter – addresses \n",
    "this topic.\n",
    "\"\"\""
   ]
  }
 ],
 "metadata": {
  "hide_input": false,
  "kernelspec": {
   "display_name": "trainingAI",
   "language": "python",
   "name": "trainingai"
  },
  "language_info": {
   "codemirror_mode": {
    "name": "ipython",
    "version": 3
   },
   "file_extension": ".py",
   "mimetype": "text/x-python",
   "name": "python",
   "nbconvert_exporter": "python",
   "pygments_lexer": "ipython3",
   "version": "3.8.5"
  }
 },
 "nbformat": 4,
 "nbformat_minor": 2
}
