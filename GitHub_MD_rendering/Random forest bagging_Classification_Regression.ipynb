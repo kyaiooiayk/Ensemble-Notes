{
 "cells": [
  {
   "cell_type": "markdown",
   "metadata": {},
   "source": [
    "# Introduction\n",
    "<hr style=\"border:2px solid black\"> </hr>"
   ]
  },
  {
   "cell_type": "code",
   "execution_count": 1,
   "metadata": {},
   "outputs": [
    {
     "data": {
      "text/plain": [
       "'\\nWhat? Bagging with random forest\\n\\nRevision No: 1\\nLaste revised: 08/02/21\\nReference: Corey Wade. “Hands-On Gradient Boosting with XGBoost and scikit-learn\\nGLM\\n'"
      ]
     },
     "execution_count": 1,
     "metadata": {},
     "output_type": "execute_result"
    }
   ],
   "source": [
    "\"\"\"\n",
    "What? Bagging with random forest applied to regression & classification. A simple hyperparameterisation is \n",
    "      shown\n",
    "\n",
    "Corey Wade. “Hands-On Gradient Boosting with XGBoost and scikit-learn\n",
    "https://github.com/PacktPublishing/Hands-On-Gradient-Boosting-with-XGBoost-and-Scikit-learn\n",
    "\"\"\""
   ]
  },
  {
   "cell_type": "markdown",
   "metadata": {},
   "source": [
    "# Import python modules"
   ]
  },
  {
   "cell_type": "code",
   "execution_count": 1,
   "metadata": {},
   "outputs": [],
   "source": [
    "import pandas as pd\n",
    "import numpy as np\n",
    "from pylab import rcParams\n",
    "from matplotlib import pyplot\n",
    "from sklearn.ensemble import RandomForestClassifier\n",
    "from sklearn.ensemble import RandomForestRegressor\n",
    "from sklearn.model_selection import cross_val_score\n",
    "import warnings\n",
    "warnings.filterwarnings('ignore')\n",
    "import matplotlib.pyplot as plt"
   ]
  },
  {
   "cell_type": "markdown",
   "metadata": {},
   "source": [
    "# Random forest classifier"
   ]
  },
  {
   "cell_type": "code",
   "execution_count": 13,
   "metadata": {},
   "outputs": [],
   "source": [
    "# Upload csv file 'census_cleaned' as df_census\n",
    "df_census = pd.read_csv('../DATASETS/census_cleaned.csv')"
   ]
  },
  {
   "cell_type": "code",
   "execution_count": 14,
   "metadata": {},
   "outputs": [],
   "source": [
    "# Split data into X and y\n",
    "X_census = df_census.iloc[:,:-1]\n",
    "y_census = df_census.iloc[:,-1]"
   ]
  },
  {
   "cell_type": "code",
   "execution_count": 15,
   "metadata": {},
   "outputs": [
    {
     "name": "stdout",
     "output_type": "stream",
     "text": [
      "Accuracy: [0.851 0.844 0.851 0.852 0.851]\n",
      "Accuracy mean: 0.850\n"
     ]
    }
   ],
   "source": [
    "# Initialize the classifier\n",
    "rf = RandomForestClassifier(n_estimators=10, random_state=2, n_jobs=-1)\n",
    "\n",
    "# Obtain scores of cross-validation to the get the mean performance\n",
    "scores = cross_val_score(rf, X_census, y_census, cv=5)\n",
    "\n",
    "# Display accuracy\n",
    "print('Accuracy:', np.round(scores, 3))\n",
    "\n",
    "# Display mean accuracy\n",
    "print('Accuracy mean: %0.3f' % (scores.mean()))"
   ]
  },
  {
   "cell_type": "code",
   "execution_count": 16,
   "metadata": {},
   "outputs": [
    {
     "data": {
      "text/plain": [
       "'\\nWhy does it perform better than decision trees?\\nWith 10 trees in this forest (since n_estimators=10), each prediction is based on 10 decision trees instead of 1.\\nThe trees are bootstrapped, which increases diversity, and aggregated, which reduces variance.\\n'"
      ]
     },
     "execution_count": 16,
     "metadata": {},
     "output_type": "execute_result"
    }
   ],
   "source": [
    "\"\"\"\n",
    "Why does it perform better than decision trees?\n",
    "With 10 trees in this forest (since n_estimators=10), each prediction is based on 10 decision trees instead of 1.\n",
    "The trees are bootstrapped, which increases diversity, and aggregated, which reduces variance.\n",
    "\"\"\""
   ]
  },
  {
   "cell_type": "markdown",
   "metadata": {},
   "source": [
    "# Random forest regressor"
   ]
  },
  {
   "cell_type": "code",
   "execution_count": 17,
   "metadata": {},
   "outputs": [],
   "source": [
    "# Upload csv file 'bike_rentals_cleaned' as df_bikes\n",
    "df_bikes = pd.read_csv('../DATASETS/bike_rentals_cleaned.csv')"
   ]
  },
  {
   "cell_type": "code",
   "execution_count": 18,
   "metadata": {},
   "outputs": [],
   "source": [
    "# Split data into X and y\n",
    "X_bikes = df_bikes.iloc[:,:-1]\n",
    "y_bikes = df_bikes.iloc[:,-1]"
   ]
  },
  {
   "cell_type": "code",
   "execution_count": 19,
   "metadata": {},
   "outputs": [
    {
     "name": "stdout",
     "output_type": "stream",
     "text": [
      "RMSE: [ 801.486  579.987  551.347  846.698  895.05  1097.522  893.738  809.284\n",
      "  833.488 2145.046]\n",
      "RMSE mean: 945.365\n"
     ]
    }
   ],
   "source": [
    "# Initialize Random Forest Regressor\n",
    "rf = RandomForestRegressor(n_estimators=10, random_state=2, n_jobs=-1)\n",
    "\n",
    "# Obtain scores of cross-validation using num_splits and mean squared error to the get the mean performance\n",
    "scores = cross_val_score(rf, X_bikes, y_bikes, scoring='neg_mean_squared_error', cv=10)\n",
    "\n",
    "# Take square root of the scores\n",
    "rmse = np.sqrt(-scores)\n",
    "\n",
    "# Display accuracy\n",
    "print('RMSE:', np.round(rmse, 3))\n",
    "\n",
    "# Display mean score\n",
    "print('RMSE mean: %0.3f' % (rmse.mean()))"
   ]
  },
  {
   "cell_type": "markdown",
   "metadata": {},
   "source": [
    "# Random Forest Hyperparameters"
   ]
  },
  {
   "cell_type": "code",
   "execution_count": 20,
   "metadata": {},
   "outputs": [
    {
     "data": {
      "text/plain": [
       "\"\\nWhat is the oob_score (Out Of Bag score)?\\n\\nRandom forests select decision trees via bagging, meaning that samples are selected with replacement. After \\nall of the samples have been chosen, some samples should remain that have not been chosen.\\n\\nIt's possible to hold back these samples as the test set. After the model is fit on one tree, the model can \\nimmediately be scored against this test set. When the hyperparameter is set to oob_score=True, this is exactly\\nwhat happens.\\n\\nIn other words, oob_score provides a shortcut to get a test score. oob_score may be printed out immediately \\nafter the model has been fit.\\n\\nWhen the number of trees in the forest is small, as is the case with 10 estimators, there may not be enough \\ntest samples to maximize accuracy.\\n\""
      ]
     },
     "execution_count": 20,
     "metadata": {},
     "output_type": "execute_result"
    }
   ],
   "source": [
    "\"\"\"\n",
    "What is the oob_score (Out Of Bag score)?\n",
    "\n",
    "Random forests select decision trees via bagging, meaning that samples are selected with replacement. After \n",
    "all of the samples have been chosen, some samples should remain that have not been chosen.\n",
    "\n",
    "It's possible to hold back these samples as the test set. After the model is fit on one tree, the model can \n",
    "immediately be scored against this test set. When the hyperparameter is set to oob_score=True, this is exactly\n",
    "what happens.\n",
    "\n",
    "In other words, oob_score provides a shortcut to get a test score. oob_score may be printed out immediately \n",
    "after the model has been fit.\n",
    "\n",
    "When the number of trees in the forest is small, as is the case with 10 estimators, there may not be enough \n",
    "test samples to maximize accuracy.\n",
    "\"\"\""
   ]
  },
  {
   "cell_type": "code",
   "execution_count": 24,
   "metadata": {},
   "outputs": [
    {
     "data": {
      "text/plain": [
       "RandomForestClassifier(n_estimators=10, n_jobs=-1, oob_score=True,\n",
       "                       random_state=2)"
      ]
     },
     "execution_count": 24,
     "metadata": {},
     "output_type": "execute_result"
    }
   ],
   "source": [
    "# Intialize Random Forest Classifier with oob_score=True\n",
    "rf = RandomForestClassifier(oob_score=True, n_estimators=10, random_state=2, n_jobs=-1)\n",
    "\n",
    "# Fit Random Forest on Census Dataset\n",
    "rf.fit(X_census, y_census)"
   ]
  },
  {
   "cell_type": "code",
   "execution_count": 25,
   "metadata": {},
   "outputs": [
    {
     "data": {
      "text/plain": [
       "0.8343109855348423"
      ]
     },
     "execution_count": 25,
     "metadata": {},
     "output_type": "execute_result"
    }
   ],
   "source": [
    "# Display oob score\n",
    "rf.oob_score_"
   ]
  },
  {
   "cell_type": "code",
   "execution_count": 26,
   "metadata": {},
   "outputs": [
    {
     "data": {
      "text/plain": [
       "0.8518780135745216"
      ]
     },
     "execution_count": 26,
     "metadata": {},
     "output_type": "execute_result"
    }
   ],
   "source": [
    "# Intialize Random Forest Classifier with n_estimators=50 and oob_score=True\n",
    "rf = RandomForestClassifier(n_estimators=50, oob_score=True, random_state=2, n_jobs=-1)\n",
    "\n",
    "# Fit Random Forest on Census Dataset\n",
    "rf.fit(X_census, y_census)\n",
    "\n",
    "# Display oob_score\n",
    "rf.oob_score_"
   ]
  },
  {
   "cell_type": "code",
   "execution_count": 27,
   "metadata": {},
   "outputs": [
    {
     "data": {
      "text/plain": [
       "0.8551334418476091"
      ]
     },
     "execution_count": 27,
     "metadata": {},
     "output_type": "execute_result"
    }
   ],
   "source": [
    "# Intialize Random Forest Classifier with n_estimators=100 and oob_score=True\n",
    "rf = RandomForestClassifier(n_estimators=100, oob_score=True, random_state=2, n_jobs=-1)\n",
    "\n",
    "# Fit Random Forest on Census Dataset\n",
    "rf.fit(X_census, y_census)\n",
    "\n",
    "# Display oob_score\n",
    "rf.oob_score_"
   ]
  },
  {
   "cell_type": "code",
   "execution_count": 28,
   "metadata": {},
   "outputs": [
    {
     "data": {
      "text/plain": [
       "'\\nThe warm_start hyperparameter is great for determining the number of trees in the forest (n_estimators). \\nWhen warm_start=True, adding more trees does not require starting over from scratch. If you change \\nn_estimators from 100 to 200, it may take twice as long to build the forest with 200 trees. When \\nwarm_start=True, the random forest with 200 trees does not start from scratch, but rather starts where \\nthe previous model stopped.”\\n'"
      ]
     },
     "execution_count": 28,
     "metadata": {},
     "output_type": "execute_result"
    }
   ],
   "source": [
    "\"\"\"\n",
    "The warm_start hyperparameter is great for determining the number of trees in the forest (n_estimators). \n",
    "When warm_start=True, adding more trees does not require starting over from scratch. If you change \n",
    "n_estimators from 100 to 200, it may take twice as long to build the forest with 200 trees. When \n",
    "warm_start=True, the random forest with 200 trees does not start from scratch, but rather starts where \n",
    "the previous model stopped.”\n",
    "\"\"\""
   ]
  },
  {
   "cell_type": "code",
   "execution_count": 30,
   "metadata": {
    "scrolled": false
   },
   "outputs": [
    {
     "data": {
      "image/png": "[encoded data removed]",
      "text/plain": [
       "<Figure size 1152x360 with 1 Axes>"
      ]
     },
     "metadata": {
      "needs_background": "light"
     },
     "output_type": "display_data"
    }
   ],
   "source": [
    "# Intialize empty list of oob_scores\n",
    "oob_scores = []\n",
    "\n",
    "# Initalize Random Forest as rf with 50 estimators, warm_start=True, and oob_score=True\n",
    "rf = RandomForestClassifier(n_estimators=50, warm_start=True, oob_score=True, n_jobs=-1, random_state=2)\n",
    "# Fit rf to Census dataset\n",
    "rf.fit(X_census, y_census)\n",
    "# Append rf_oob_score to oob_scores list\n",
    "oob_scores.append(rf.oob_score_)\n",
    "# Initalize est to 50\n",
    "est = 50\n",
    "# Initalize estimtators list with est\n",
    "estimators=[est]\n",
    "\n",
    "# Use for loop from 0 -9 \n",
    "for i in range(9):    \n",
    "    # Add 50 to est\n",
    "    est += 50    \n",
    "    # Append est to estimators list\n",
    "    estimators.append(est)\n",
    "    # Set n_estimators to est\n",
    "    rf.set_params(n_estimators=est)    \n",
    "    # Fit rf on Census dataset\n",
    "    rf.fit(X_census, y_census)    \n",
    "    # Append rf_oob_score to oob_scores list\n",
    "    oob_scores.append(rf.oob_score_)\n",
    "\n",
    "# Plotting\n",
    "rcParams['figure.figsize'] = 16, 5\n",
    "rcParams['font.size'] = 20\n",
    "fig, ax = pyplot.subplots()\n",
    "ax.plot(estimators, oob_scores, \"r\", lw = 3)\n",
    "pyplot.xlabel('No of trees')\n",
    "pyplot.ylabel(\"oob_score\")\n",
    "pyplot.title('Training history')\n",
    "ax.grid(which = \"major\", linestyle='-', linewidth='1.0', color='k')\n",
    "ax.grid(which = \"minor\", linestyle='--', linewidth='0.25', color='k')\n",
    "ax.tick_params(which = 'major', direction='in', length=10, width=2)\n",
    "ax.tick_params(which = 'minor', direction='in', length=6, width=2)\n",
    "ax.spines['bottom'].set_linewidth(3)\n",
    "ax.spines['left'].set_linewidth(3)\n",
    "ax.minorticks_on()\n",
    "#ax.legend()\n",
    "pyplot.show()"
   ]
  }
 ],
 "metadata": {
  "hide_input": false,
  "kernelspec": {
   "display_name": "trainingAI",
   "language": "python",
   "name": "trainingai"
  },
  "language_info": {
   "codemirror_mode": {
    "name": "ipython",
    "version": 3
   },
   "file_extension": ".py",
   "mimetype": "text/x-python",
   "name": "python",
   "nbconvert_exporter": "python",
   "pygments_lexer": "ipython3",
   "version": "3.8.5"
  }
 },
 "nbformat": 4,
 "nbformat_minor": 2
}
